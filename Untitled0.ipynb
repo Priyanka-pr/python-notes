{
  "nbformat": 4,
  "nbformat_minor": 0,
  "metadata": {
    "colab": {
      "name": "Untitled0.ipynb",
      "provenance": [],
      "toc_visible": true
    },
    "kernelspec": {
      "name": "python3",
      "display_name": "Python 3"
    }
  },
  "cells": [
    {
      "cell_type": "code",
      "metadata": {
        "id": "O05d89koYOK8",
        "colab_type": "code",
        "colab": {
          "base_uri": "https://localhost:8080/",
          "height": 102
        },
        "outputId": "c922c80f-a52c-41a9-94c2-cfd8e1789037"
      },
      "source": [
        "print('What is your name?')\n",
        "myName=input()\n",
        "print('What is your age?')\n",
        "age=input()\n",
        "print('Hey! so your are '+str(age)+' years old')"
      ],
      "execution_count": 1,
      "outputs": [
        {
          "output_type": "stream",
          "text": [
            "What is your name?\n",
            "priyanka rana\n",
            "What is your age?\n",
            "25\n",
            "Hey! so your are 25 years old\n"
          ],
          "name": "stdout"
        }
      ]
    },
    {
      "cell_type": "code",
      "metadata": {
        "id": "NrJtpwreZ1p2",
        "colab_type": "code",
        "colab": {}
      },
      "source": [
        "hungry=input()\n",
        "if hungry=='yes':\n",
        "  print('You can have a doughnut!!!!')\n",
        "else:\n",
        "  print('Go to sleep')"
      ],
      "execution_count": null,
      "outputs": []
    },
    {
      "cell_type": "code",
      "metadata": {
        "id": "LJAm7gyYYuAD",
        "colab_type": "code",
        "colab": {}
      },
      "source": [
        ""
      ],
      "execution_count": null,
      "outputs": []
    }
  ]
}